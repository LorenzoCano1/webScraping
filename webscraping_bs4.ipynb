{
 "cells": [
  {
   "cell_type": "code",
   "execution_count": 11,
   "id": "2545ec26",
   "metadata": {},
   "outputs": [],
   "source": [
    "import requests\n",
    "from bs4 import BeautifulSoup\n",
    "import re\n",
    "import pandas as pd\n",
    "import numpy as np"
   ]
  },
  {
   "cell_type": "markdown",
   "id": "ccbb90eb",
   "metadata": {},
   "source": [
    "## Fase de explotación"
   ]
  },
  {
   "cell_type": "code",
   "execution_count": 2,
   "id": "a78c9788",
   "metadata": {},
   "outputs": [],
   "source": [
    "jugadores = {'Lionel Messi': \"https://www.transfermarkt.com/lionel-messi/profil/spieler/28003\", 'Cristiano Ronaldo': \"https://www.transfermarkt.com/cristiano-ronaldo/profil/spieler/8198\", \"Kylian Mbappé\": \"https://www.transfermarkt.com/kylian-mbappe/profil/spieler/342229\", \"Erling Haaland\": \"https://www.transfermarkt.com/erling-haaland/profil/spieler/418560\"} "
   ]
  },
  {
   "cell_type": "code",
   "execution_count": 3,
   "id": "5270915f",
   "metadata": {},
   "outputs": [
    {
     "data": {
      "text/plain": [
       "'https://www.transfermarkt.com/lionel-messi/profil/spieler/28003'"
      ]
     },
     "execution_count": 3,
     "metadata": {},
     "output_type": "execute_result"
    }
   ],
   "source": [
    "jugadores[\"Lionel Messi\"]"
   ]
  },
  {
   "cell_type": "code",
   "execution_count": 4,
   "id": "0f4de447",
   "metadata": {},
   "outputs": [],
   "source": [
    "equipos = []\n",
    "estimacion_mercado = []\n",
    "\n",
    "for jugador in jugadores.keys():\n",
    "    #descargamos el HTML\n",
    "    url = jugadores[jugador]\n",
    "    headers = {'User-Agent': 'Mozilla/5.0 (X11; Linux x86_64) AppleWebKit/537.36 (KHTML, like Gecko) Chrome/47.0.2526.106 Safari/537.36'}\n",
    "    html = requests.get(url, headers= headers)\n",
    "    \n",
    "    #parseamos con bs\n",
    "    soup = BeautifulSoup(html.content, 'html.parser')\n",
    "    \n",
    "    #obtenemos equipo\n",
    "    equipo = soup.find_all(\"span\", {\"class\": \"data-header__club\"})[0].text.strip()\n",
    "    equipos.append(equipo)\n",
    "    \n",
    "    #obtenemos la valoracion de mercado\n",
    "    valor = soup.find_all(\"div\", {\"class\": \"tm-player-market-value-development__current-value\"})[0].text.strip()\n",
    "    regex_valor = re.compile('\\d+\\.\\d+')\n",
    "    valor = float(regex_valor.search(valor)[0])\n",
    "    estimacion_mercado.append(valor)"
   ]
  },
  {
   "cell_type": "code",
   "execution_count": 5,
   "id": "c5f7b9bd",
   "metadata": {},
   "outputs": [
    {
     "data": {
      "text/plain": [
       "[50.0, 20.0, 180.0, 170.0]"
      ]
     },
     "execution_count": 5,
     "metadata": {},
     "output_type": "execute_result"
    }
   ],
   "source": [
    "estimacion_mercado"
   ]
  },
  {
   "cell_type": "code",
   "execution_count": 6,
   "id": "18ac69ed",
   "metadata": {
    "scrolled": true
   },
   "outputs": [
    {
     "data": {
      "text/html": [
       "<div>\n",
       "<style scoped>\n",
       "    .dataframe tbody tr th:only-of-type {\n",
       "        vertical-align: middle;\n",
       "    }\n",
       "\n",
       "    .dataframe tbody tr th {\n",
       "        vertical-align: top;\n",
       "    }\n",
       "\n",
       "    .dataframe thead th {\n",
       "        text-align: right;\n",
       "    }\n",
       "</style>\n",
       "<table border=\"1\" class=\"dataframe\">\n",
       "  <thead>\n",
       "    <tr style=\"text-align: right;\">\n",
       "      <th></th>\n",
       "      <th>jugador</th>\n",
       "      <th>equipo</th>\n",
       "      <th>valor_mercado_estim</th>\n",
       "    </tr>\n",
       "  </thead>\n",
       "  <tbody>\n",
       "    <tr>\n",
       "      <th>0</th>\n",
       "      <td>Lionel Messi</td>\n",
       "      <td>Paris SG</td>\n",
       "      <td>50.0</td>\n",
       "    </tr>\n",
       "    <tr>\n",
       "      <th>1</th>\n",
       "      <td>Cristiano Ronaldo</td>\n",
       "      <td>Al-Nassr FC</td>\n",
       "      <td>20.0</td>\n",
       "    </tr>\n",
       "    <tr>\n",
       "      <th>2</th>\n",
       "      <td>Kylian Mbappé</td>\n",
       "      <td>Paris SG</td>\n",
       "      <td>180.0</td>\n",
       "    </tr>\n",
       "    <tr>\n",
       "      <th>3</th>\n",
       "      <td>Erling Haaland</td>\n",
       "      <td>Man City</td>\n",
       "      <td>170.0</td>\n",
       "    </tr>\n",
       "  </tbody>\n",
       "</table>\n",
       "</div>"
      ],
      "text/plain": [
       "             jugador       equipo  valor_mercado_estim\n",
       "0       Lionel Messi     Paris SG                 50.0\n",
       "1  Cristiano Ronaldo  Al-Nassr FC                 20.0\n",
       "2      Kylian Mbappé     Paris SG                180.0\n",
       "3     Erling Haaland     Man City                170.0"
      ]
     },
     "execution_count": 6,
     "metadata": {},
     "output_type": "execute_result"
    }
   ],
   "source": [
    "data = pd.DataFrame({'jugador': list(jugadores.keys()), 'equipo': equipos, 'valor_mercado_estim': estimacion_mercado})\n",
    "data"
   ]
  },
  {
   "cell_type": "code",
   "execution_count": 8,
   "id": "71c78d1d",
   "metadata": {},
   "outputs": [],
   "source": [
    "data.to_csv(r'C:\\Users\\Loren\\OneDrive\\Escritorio\\CSV\\data.csv', index=False, sep=';')"
   ]
  }
 ],
 "metadata": {
  "kernelspec": {
   "display_name": "Python 3 (ipykernel)",
   "language": "python",
   "name": "python3"
  },
  "language_info": {
   "codemirror_mode": {
    "name": "ipython",
    "version": 3
   },
   "file_extension": ".py",
   "mimetype": "text/x-python",
   "name": "python",
   "nbconvert_exporter": "python",
   "pygments_lexer": "ipython3",
   "version": "3.10.2"
  }
 },
 "nbformat": 4,
 "nbformat_minor": 5
}
